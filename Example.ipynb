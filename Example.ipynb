{
 "cells": [
  {
   "cell_type": "markdown",
   "id": "17521335",
   "metadata": {},
   "source": [
    "# Sepia2 Python Example\n",
    "\n",
    "Example for usage of the Sepia2 Python Wrapper. Import the SepiaWrapper and list available devices."
   ]
  },
  {
   "cell_type": "code",
   "execution_count": 1,
   "id": "433d62f1",
   "metadata": {},
   "outputs": [
    {
     "name": "stdout",
     "output_type": "stream",
     "text": [
      "Device 0: Sepia II, serial number 1012681\n"
     ]
    }
   ],
   "source": [
    "import SepiaWrapper\n",
    "devices = SepiaWrapper.list_devices()"
   ]
  },
  {
   "cell_type": "markdown",
   "id": "382da942-e904-48d4-9123-40570fe7ba4c",
   "metadata": {},
   "source": [
    "## Operating a single laser\n",
    "\n",
    "Connect to a sepia2 device"
   ]
  },
  {
   "cell_type": "code",
   "execution_count": 3,
   "id": "7240f52f",
   "metadata": {},
   "outputs": [
    {
     "name": "stdout",
     "output_type": "stream",
     "text": [
      "Connected to Sepia II, SNR 1012681\n",
      "SOMD oscillator module\n",
      "Laser Module 0: SLM\n",
      "Laser Module 1: SLM\n"
     ]
    }
   ],
   "source": [
    "sepia2 = SepiaWrapper.sepia2(0, verbose=True)"
   ]
  },
  {
   "metadata": {},
   "cell_type": "markdown",
   "source": "set parameters for prima laser",
   "id": "afa5e25c602f9b10"
  },
  {
   "metadata": {},
   "cell_type": "code",
   "outputs": [],
   "execution_count": null,
   "source": "sepia2.lasers[0].set_laser_parameters(3, operation_frequency=20000)",
   "id": "15410ba7d98f3c98"
  },
  {
   "cell_type": "markdown",
   "id": "701582a9-ac61-42ea-b5dc-dca451af3b51",
   "metadata": {},
   "source": [
    "and start a single laser"
   ]
  },
  {
   "cell_type": "code",
   "execution_count": 5,
   "id": "5fd242a4",
   "metadata": {},
   "outputs": [
    {
     "data": {
      "text/plain": [
       "(7.639, 20.0)"
      ]
     },
     "execution_count": 5,
     "metadata": {},
     "output_type": "execute_result"
    }
   ],
   "source": [
    "laser_index = 0\n",
    "repetition_rate = 20 # in MHz\n",
    "intensity = 80.3 # in %\n",
    "delay = 8.2 # in ns\n",
    "sepia2.start_laser_simple(laser_index, repetition_rate, intensity, delay=delay)"
   ]
  },
  {
   "cell_type": "markdown",
   "id": "91a8850a-89ad-417b-ae96-0b02aa7f6987",
   "metadata": {},
   "source": [
    "## Setting Laser intensity\n",
    "\n",
    "The sepia2 instance contains instances of the laser class, which can be used to set intensity or pulse parameters. First you can check the current status of the laser:"
   ]
  },
  {
   "cell_type": "code",
   "execution_count": 7,
   "id": "7805e899",
   "metadata": {},
   "outputs": [
    {
     "name": "stdout",
     "output_type": "stream",
     "text": [
      "module_type SLM\n",
      "slot_id 200\n",
      "trigger 7\n",
      "pulsed True\n",
      "head_type LASER\n",
      "trigger_mode falling edge (ext.)\n",
      "intensity 80.3\n"
     ]
    }
   ],
   "source": [
    "parameters = sepia2.lasers[0].get_current_status()"
   ]
  },
  {
   "cell_type": "markdown",
   "id": "a41cbcc4-f15e-465b-91fe-26449cebc689",
   "metadata": {},
   "source": [
    "and then set a different intensity and see the change. Triggering can also be changed"
   ]
  },
  {
   "cell_type": "code",
   "execution_count": 9,
   "id": "94b15038",
   "metadata": {},
   "outputs": [
    {
     "name": "stdout",
     "output_type": "stream",
     "text": [
      "module_type SLM\n",
      "slot_id 200\n",
      "trigger 1\n",
      "pulsed True\n",
      "head_type LASER\n",
      "trigger_mode 40 MHz (int.)\n",
      "intensity 65.5\n"
     ]
    }
   ],
   "source": [
    "sepia2.lasers[0].set_pulse_parameters(1, True)\n",
    "sepia2.lasers[0].set_intensity(65.5)\n",
    "parameters = sepia2.lasers[0].get_current_status()"
   ]
  },
  {
   "cell_type": "markdown",
   "id": "5d411de0-3e4c-47f3-abb3-45cd99053880",
   "metadata": {},
   "source": [
    "## Setting Oscillator parameters\n",
    "\n",
    "The sepia2 instance also contains an instance of the oscillator class, which allows setting of more complex oscillator parameters. You can first get a summary of the current parameters"
   ]
  },
  {
   "cell_type": "code",
   "execution_count": 10,
   "id": "2efddf9d",
   "metadata": {},
   "outputs": [
    {
     "name": "stdout",
     "output_type": "stream",
     "text": [
      "module_type SOMD\n",
      "slot_id 100\n",
      "trigger_mode 80.00 MHz (int. A)\n",
      "divider 4\n",
      "clock frequency 20.0\n",
      "presync 0\n",
      "mask_sync 0\n",
      "burst_array [1, 0, 0, 0, 0, 0, 0, 0]\n",
      "output_enabled [0]\n",
      "sync_enabled [0]\n",
      "sync_mask_inverted False\n",
      "sequencer free running\n",
      "sequencer_AuxOut False\n",
      "Channel_0 delayed 7.64 ns and 0 a.u.\n",
      "Channel_1 delayed 7.60 ns and 0 a.u.\n",
      "Channel_2 undelayed, combining [1, 5], Masked: False\n",
      "Channel_3 delayed 0.00 ns and 0 a.u.\n",
      "Channel_4 delayed 0.00 ns and 0 a.u.\n",
      "Channel_5 delayed 0.00 ns and 0 a.u.\n",
      "Channel_6 delayed 0.00 ns and 0 a.u.\n",
      "Channel_7 delayed 0.00 ns and 0 a.u.\n"
     ]
    }
   ],
   "source": [
    "parameters = sepia2.oscillator.get_current_status()"
   ]
  },
  {
   "cell_type": "markdown",
   "id": "4da3db96-495a-4824-bd3e-052f358143b5",
   "metadata": {},
   "source": [
    "and then set more complex burst patterns or change trigger frequency. See the Sepia manual for more info on what these values mean."
   ]
  },
  {
   "cell_type": "code",
   "execution_count": 11,
   "id": "25e30b1e",
   "metadata": {},
   "outputs": [
    {
     "name": "stdout",
     "output_type": "stream",
     "text": [
      "module_type SOMD\n",
      "slot_id 100\n",
      "trigger_mode 80.00 MHz (int. A)\n",
      "divider 3\n",
      "clock frequency 26.666666666666668\n",
      "presync 0\n",
      "mask_sync 0\n",
      "burst_array [1, 0, 0, 0, 0, 0, 0, 0]\n",
      "output_enabled [0, 3]\n",
      "sync_enabled [0]\n",
      "sync_mask_inverted False\n",
      "sequencer running on AUX IN high\n",
      "sequencer_AuxOut True\n",
      "Channel_0 delayed -3.47 ns and 8 a.u.\n",
      "Channel_1 delayed 7.60 ns and 0 a.u.\n",
      "Channel_2 undelayed, combining [1, 5], Masked: False\n",
      "Channel_3 delayed 0.00 ns and 0 a.u.\n",
      "Channel_4 delayed 0.00 ns and 0 a.u.\n",
      "Channel_5 delayed 0.00 ns and 0 a.u.\n",
      "Channel_6 delayed 0.00 ns and 0 a.u.\n",
      "Channel_7 delayed 0.00 ns and 0 a.u.\n"
     ]
    }
   ],
   "source": [
    "sepia2.oscillator.set_clock_internal(30)\n",
    "sepia2.oscillator.set_delay(0, -3, 8)\n",
    "sepia2.oscillator.set_output([0,3])\n",
    "sepia2.oscillator.set_combiner(2, [1,5], False)\n",
    "sepia2.oscillator.set_sequencer(True, 1)\n",
    "\n",
    "parameters = sepia2.oscillator.get_current_status()"
   ]
  },
  {
   "cell_type": "markdown",
   "id": "aa084b0f",
   "metadata": {},
   "source": [
    "## Close the USB connection\n",
    "\n",
    "To leave the laser on when exiting your program, close the usb connection."
   ]
  },
  {
   "cell_type": "code",
   "execution_count": 12,
   "id": "cf68f993",
   "metadata": {},
   "outputs": [],
   "source": [
    "sepia2.close()"
   ]
  },
  {
   "cell_type": "markdown",
   "id": "608f9d46-8594-48d4-82bf-43a87ff97adf",
   "metadata": {},
   "source": [
    "## Using functions from the API\n",
    "\n",
    "Some functions from the API are also included if you want to use the functions without creating a sepia2 instance. For instance to see which version of the firmware is running, call"
   ]
  },
  {
   "cell_type": "code",
   "execution_count": 13,
   "id": "67b9b3f6-eea0-4bec-a9ea-fd4a1fc9a3b5",
   "metadata": {},
   "outputs": [
    {
     "data": {
      "text/plain": [
       "(0, '1.2.64.793')"
      ]
     },
     "execution_count": 13,
     "metadata": {},
     "output_type": "execute_result"
    }
   ],
   "source": [
    "SepiaWrapper.library.get_version()"
   ]
  },
  {
   "cell_type": "markdown",
   "id": "ed2a078b-c363-4005-9abf-7f76fbc49776",
   "metadata": {},
   "source": [
    "Check the submodules to see which functions are included, which are missing, and how to call them."
   ]
  }
 ],
 "metadata": {
  "kernelspec": {
   "display_name": "Python 3 (ipykernel)",
   "language": "python",
   "name": "python3"
  },
  "language_info": {
   "codemirror_mode": {
    "name": "ipython",
    "version": 3
   },
   "file_extension": ".py",
   "mimetype": "text/x-python",
   "name": "python",
   "nbconvert_exporter": "python",
   "pygments_lexer": "ipython3",
   "version": "3.11.3"
  }
 },
 "nbformat": 4,
 "nbformat_minor": 5
}
