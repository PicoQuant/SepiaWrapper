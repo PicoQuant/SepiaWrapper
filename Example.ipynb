{
 "cells": [
  {
   "cell_type": "markdown",
   "id": "17521335",
   "metadata": {},
   "source": [
    "# Sepia2 Python Example"
   ]
  },
  {
   "cell_type": "code",
   "execution_count": 1,
   "id": "433d62f1",
   "metadata": {},
   "outputs": [],
   "source": [
    "import sepia2_api"
   ]
  },
  {
   "cell_type": "code",
   "execution_count": 2,
   "id": "8483371a",
   "metadata": {},
   "outputs": [
    {
     "name": "stdout",
     "output_type": "stream",
     "text": [
      "Device 0: Sepia II, serial number 1012681\n"
     ]
    }
   ],
   "source": [
    "devices = sepia2_api.list_devices()"
   ]
  },
  {
   "cell_type": "code",
   "execution_count": 3,
   "id": "7240f52f",
   "metadata": {},
   "outputs": [
    {
     "name": "stdout",
     "output_type": "stream",
     "text": [
      "Connected to Sepia II, SNR 1012681\n",
      "SOMD oscillator module\n",
      "Laser Module 0: SLM\n",
      "Laser Module 1: SLM\n"
     ]
    }
   ],
   "source": [
    "sepia2 = sepia2_api.sepia2(0, verbose=True)"
   ]
  },
  {
   "cell_type": "code",
   "execution_count": 4,
   "id": "86dd4138",
   "metadata": {},
   "outputs": [
    {
     "data": {
      "text/plain": [
       "(0, 4, 0, 0)"
      ]
     },
     "execution_count": 4,
     "metadata": {},
     "output_type": "execute_result"
    }
   ],
   "source": [
    "sepia2_api.som_somd.get_burst_values(0, 100, 'SOMD')"
   ]
  },
  {
   "cell_type": "code",
   "execution_count": 5,
   "id": "5fd242a4",
   "metadata": {},
   "outputs": [],
   "source": [
    "sepia2.unlock()"
   ]
  },
  {
   "cell_type": "code",
   "execution_count": 12,
   "id": "0766c84e",
   "metadata": {},
   "outputs": [
    {
     "data": {
      "text/plain": [
       "9.722"
      ]
     },
     "execution_count": 12,
     "metadata": {},
     "output_type": "execute_result"
    }
   ],
   "source": [
    "laser_index = 0\n",
    "repetition rate = 20 # in MHz\n",
    "intensity = 80.3 # in %\n",
    "delay = 8.2 # in ns\n",
    "sepia2.start_laser_simple(laser_index, repetition_rate, intensity, delay=delay)"
   ]
  },
  {
   "cell_type": "code",
   "execution_count": 8,
   "id": "7805e899",
   "metadata": {},
   "outputs": [
    {
     "data": {
      "text/plain": [
       "(0, 7.639, 20)"
      ]
     },
     "execution_count": 8,
     "metadata": {},
     "output_type": "execute_result"
    }
   ],
   "source": [
    "sepia2.oscillator.set_delay(0, 8, 20)"
   ]
  },
  {
   "cell_type": "code",
   "execution_count": 14,
   "id": "94b15038",
   "metadata": {},
   "outputs": [
    {
     "data": {
      "text/plain": [
       "(0, 80, 0, 0)"
      ]
     },
     "execution_count": 14,
     "metadata": {},
     "output_type": "execute_result"
    }
   ],
   "source": [
    "sepia2_api.som_somd.get_burst_values(0, 100, 'SOMD')"
   ]
  },
  {
   "cell_type": "code",
   "execution_count": null,
   "id": "d23030d0",
   "metadata": {},
   "outputs": [],
   "source": [
    "sepia2.set_output([0,1])"
   ]
  },
  {
   "cell_type": "code",
   "execution_count": 15,
   "id": "2efddf9d",
   "metadata": {},
   "outputs": [],
   "source": [
    "out = (2,6)"
   ]
  },
  {
   "cell_type": "code",
   "execution_count": 16,
   "id": "6ba29a57",
   "metadata": {},
   "outputs": [],
   "source": [
    "output = [0]*8"
   ]
  },
  {
   "cell_type": "code",
   "execution_count": 18,
   "id": "25e30b1e",
   "metadata": {},
   "outputs": [],
   "source": [
    "output[2] = 1"
   ]
  },
  {
   "cell_type": "code",
   "execution_count": 20,
   "id": "fa7b9c4c",
   "metadata": {},
   "outputs": [
    {
     "ename": "TypeError",
     "evalue": "'int' object is not iterable",
     "output_type": "error",
     "traceback": [
      "\u001b[1;31m---------------------------------------------------------------------------\u001b[0m",
      "\u001b[1;31mTypeError\u001b[0m                                 Traceback (most recent call last)",
      "Cell \u001b[1;32mIn[20], line 1\u001b[0m\n\u001b[1;32m----> 1\u001b[0m \u001b[38;5;28;01mfor\u001b[39;00m i \u001b[38;5;129;01min\u001b[39;00m \u001b[38;5;241m3\u001b[39m:\n\u001b[0;32m      2\u001b[0m     \u001b[38;5;28mprint\u001b[39m(i)\n",
      "\u001b[1;31mTypeError\u001b[0m: 'int' object is not iterable"
     ]
    }
   ],
   "source": [
    "for i in 3:\n",
    "    print(i)"
   ]
  },
  {
   "cell_type": "code",
   "execution_count": 1,
   "id": "9ef44f5f",
   "metadata": {},
   "outputs": [],
   "source": [
    "import ctypes as ct"
   ]
  },
  {
   "cell_type": "code",
   "execution_count": 2,
   "id": "5056cebe",
   "metadata": {},
   "outputs": [],
   "source": [
    "a = ct.byref(ct.c_long(9))"
   ]
  },
  {
   "cell_type": "code",
   "execution_count": 5,
   "id": "ffc9782a",
   "metadata": {},
   "outputs": [
    {
     "ename": "AttributeError",
     "evalue": "'CArgObject' object has no attribute 'value'",
     "output_type": "error",
     "traceback": [
      "\u001b[1;31m---------------------------------------------------------------------------\u001b[0m",
      "\u001b[1;31mAttributeError\u001b[0m                            Traceback (most recent call last)",
      "Cell \u001b[1;32mIn[5], line 1\u001b[0m\n\u001b[1;32m----> 1\u001b[0m \u001b[43ma\u001b[49m\u001b[38;5;241;43m.\u001b[39;49m\u001b[43mvalue\u001b[49m\n",
      "\u001b[1;31mAttributeError\u001b[0m: 'CArgObject' object has no attribute 'value'"
     ]
    }
   ],
   "source": [
    "a.value"
   ]
  },
  {
   "cell_type": "code",
   "execution_count": 6,
   "id": "2f259a11",
   "metadata": {},
   "outputs": [],
   "source": [
    "a = ct.c_long()"
   ]
  },
  {
   "cell_type": "code",
   "execution_count": 8,
   "id": "e9a59a9e",
   "metadata": {},
   "outputs": [
    {
     "data": {
      "text/plain": [
       "0"
      ]
     },
     "execution_count": 8,
     "metadata": {},
     "output_type": "execute_result"
    }
   ],
   "source": [
    "a.value"
   ]
  },
  {
   "cell_type": "code",
   "execution_count": 1,
   "id": "52bc6a88",
   "metadata": {},
   "outputs": [
    {
     "ename": "NameError",
     "evalue": "name 'sepia2_api' is not defined",
     "output_type": "error",
     "traceback": [
      "\u001b[1;31m---------------------------------------------------------------------------\u001b[0m",
      "\u001b[1;31mNameError\u001b[0m                                 Traceback (most recent call last)",
      "Cell \u001b[1;32mIn[1], line 1\u001b[0m\n\u001b[1;32m----> 1\u001b[0m sepia2 \u001b[38;5;241m=\u001b[39m \u001b[43msepia2_api\u001b[49m\u001b[38;5;241m.\u001b[39msepia2(\u001b[38;5;241m0\u001b[39m)\n\u001b[0;32m      3\u001b[0m sepia2\u001b[38;5;241m.\u001b[39munlock()\n\u001b[0;32m      4\u001b[0m \u001b[38;5;28mprint\u001b[39m(sepia2\u001b[38;5;241m.\u001b[39mstatus)\n",
      "\u001b[1;31mNameError\u001b[0m: name 'sepia2_api' is not defined"
     ]
    }
   ],
   "source": [
    "sepia2 = sepia2_api.sepia2(0)\n",
    "\n",
    "sepia2.unlock()\n",
    "print(sepia2.status)\n",
    "\n",
    "sepia2.oscillator.get_current_status()\n",
    "\n",
    "print('Setting Values')\n",
    "\n",
    "sepia2.oscillator.set_clock_internal(30)\n",
    "sepia2.oscillator.set_delay(0, -3, 8)\n",
    "sepia2.oscillator.set_output([0,3])\n",
    "sepia2.oscillator.set_combiner(2, [1,5], False)\n",
    "sepia2.oscillator.set_sequencer(True, 1)\n",
    "\n",
    "sepia2.oscillator.get_current_status()"
   ]
  },
  {
   "cell_type": "code",
   "execution_count": null,
   "id": "7ae8f1e6",
   "metadata": {},
   "outputs": [],
   "source": []
  }
 ],
 "metadata": {
  "kernelspec": {
   "display_name": "Python 3 (ipykernel)",
   "language": "python",
   "name": "python3"
  },
  "language_info": {
   "codemirror_mode": {
    "name": "ipython",
    "version": 3
   },
   "file_extension": ".py",
   "mimetype": "text/x-python",
   "name": "python",
   "nbconvert_exporter": "python",
   "pygments_lexer": "ipython3",
   "version": "3.10.12"
  }
 },
 "nbformat": 4,
 "nbformat_minor": 5
}
