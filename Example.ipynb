{
 "cells": [
  {
   "cell_type": "markdown",
   "id": "17521335",
   "metadata": {},
   "source": [
    "# Sepia2 Python Example\n",
    "\n",
    "Example for usage of the Sepia2 Python Wrapper. Import the SepiaWrapper and list available devices."
   ]
  },
  {
   "cell_type": "code",
   "execution_count": 3,
   "id": "433d62f1",
   "metadata": {},
   "outputs": [],
   "source": [
    "import SepiaWrapper\n",
    "devices = SepiaWrapper.list_devices()"
   ]
  },
  {
   "cell_type": "markdown",
   "id": "382da942-e904-48d4-9123-40570fe7ba4c",
   "metadata": {},
   "source": [
    "## Operating a single laser\n",
    "\n",
    "Connect to a sepia2 device"
   ]
  },
  {
   "cell_type": "code",
   "execution_count": 3,
   "id": "7240f52f",
   "metadata": {},
   "outputs": [
    {
     "name": "stdout",
     "output_type": "stream",
     "text": [
      "Connected to Sepia II, SNR 1012681\n",
      "SOMD oscillator module\n",
      "Laser Module 0: SLM\n",
      "Laser Module 1: SLM\n"
     ]
    }
   ],
   "source": [
    "sepia2 = SepiaWrapper.sepia2(0, verbose=True)"
   ]
  },
  {
   "cell_type": "markdown",
   "id": "701582a9-ac61-42ea-b5dc-dca451af3b51",
   "metadata": {},
   "source": [
    "and start a single laser"
   ]
  },
  {
   "cell_type": "code",
   "execution_count": 5,
   "id": "5fd242a4",
   "metadata": {},
   "outputs": [],
   "source": [
    "laser_index = 0\n",
    "repetition rate = 20 # in MHz\n",
    "intensity = 80.3 # in %\n",
    "delay = 8.2 # in ns\n",
    "sepia2.start_laser_simple(laser_index, repetition_rate, intensity, delay=delay)"
   ]
  },
  {
   "cell_type": "markdown",
   "id": "91a8850a-89ad-417b-ae96-0b02aa7f6987",
   "metadata": {},
   "source": [
    "## Setting Laser intensity\n",
    "\n",
    "The sepia2 instance contains instances of the laser class, which can be used to set intensity or pulse parameters. First you can check the current status of the laser:"
   ]
  },
  {
   "cell_type": "code",
   "execution_count": 8,
   "id": "7805e899",
   "metadata": {},
   "outputs": [
    {
     "data": {
      "text/plain": [
       "(0, 7.639, 20)"
      ]
     },
     "execution_count": 8,
     "metadata": {},
     "output_type": "execute_result"
    }
   ],
   "source": [
    "sepia2.lasers[0].get_current_status()"
   ]
  },
  {
   "cell_type": "markdown",
   "id": "a41cbcc4-f15e-465b-91fe-26449cebc689",
   "metadata": {},
   "source": [
    "and then set a different intensity and see the change. Triggering can also be changed"
   ]
  },
  {
   "cell_type": "code",
   "execution_count": 14,
   "id": "94b15038",
   "metadata": {},
   "outputs": [
    {
     "data": {
      "text/plain": [
       "(0, 80, 0, 0)"
      ]
     },
     "execution_count": 14,
     "metadata": {},
     "output_type": "execute_result"
    }
   ],
   "source": [
    "sepia2.lasers[0].set_pulse_parameters(1, True)\n",
    "sepia2.lasers[0].set_intensity(65.5)\n",
    "sepia2.lasers[0].get_current_status()"
   ]
  },
  {
   "cell_type": "markdown",
   "id": "5d411de0-3e4c-47f3-abb3-45cd99053880",
   "metadata": {},
   "source": [
    "## Setting Oscillator parameters\n",
    "\n",
    "The sepia2 instance also contains an instance of the oscillator class, which allows setting of more complex oscillator parameters. You can first get a summary of the current parameters"
   ]
  },
  {
   "cell_type": "code",
   "execution_count": 15,
   "id": "2efddf9d",
   "metadata": {},
   "outputs": [],
   "source": [
    "sepia2.oscillator.get_current_status()"
   ]
  },
  {
   "cell_type": "markdown",
   "id": "4da3db96-495a-4824-bd3e-052f358143b5",
   "metadata": {},
   "source": [
    "and then set more complex burst patterns or change trigger frequency. See the Sepia manual for more info on what these values mean."
   ]
  },
  {
   "cell_type": "code",
   "execution_count": 4,
   "id": "25e30b1e",
   "metadata": {},
   "outputs": [
    {
     "ename": "NameError",
     "evalue": "name 'sepia2' is not defined",
     "output_type": "error",
     "traceback": [
      "\u001b[1;31m---------------------------------------------------------------------------\u001b[0m",
      "\u001b[1;31mNameError\u001b[0m                                 Traceback (most recent call last)",
      "Cell \u001b[1;32mIn[4], line 1\u001b[0m\n\u001b[1;32m----> 1\u001b[0m \u001b[43msepia2\u001b[49m\u001b[38;5;241m.\u001b[39moscillator\u001b[38;5;241m.\u001b[39mset_clock_internal(\u001b[38;5;241m30\u001b[39m)\n\u001b[0;32m      2\u001b[0m sepia2\u001b[38;5;241m.\u001b[39moscillator\u001b[38;5;241m.\u001b[39mset_delay(\u001b[38;5;241m0\u001b[39m, \u001b[38;5;241m-\u001b[39m\u001b[38;5;241m3\u001b[39m, \u001b[38;5;241m8\u001b[39m)\n\u001b[0;32m      3\u001b[0m sepia2\u001b[38;5;241m.\u001b[39moscillator\u001b[38;5;241m.\u001b[39mset_output([\u001b[38;5;241m0\u001b[39m,\u001b[38;5;241m3\u001b[39m])\n",
      "\u001b[1;31mNameError\u001b[0m: name 'sepia2' is not defined"
     ]
    }
   ],
   "source": [
    "sepia2.oscillator.set_clock_internal(30)\n",
    "sepia2.oscillator.set_delay(0, -3, 8)\n",
    "sepia2.oscillator.set_output([0,3])\n",
    "sepia2.oscillator.set_combiner(2, [1,5], False)\n",
    "sepia2.oscillator.set_sequencer(True, 1)\n",
    "\n",
    "sepia2.oscillator.get_current_status()"
   ]
  },
  {
   "cell_type": "markdown",
   "id": "608f9d46-8594-48d4-82bf-43a87ff97adf",
   "metadata": {},
   "source": [
    "## Using functions from the API\n",
    "\n",
    "Some functions from the API are also included if you want to use the functions without creating a sepia2 instance. For instance to see which version of the firmware is running, call"
   ]
  },
  {
   "cell_type": "code",
   "execution_count": null,
   "id": "67b9b3f6-eea0-4bec-a9ea-fd4a1fc9a3b5",
   "metadata": {},
   "outputs": [],
   "source": [
    "SepiaWrapper.library.get_version()"
   ]
  },
  {
   "cell_type": "markdown",
   "id": "ed2a078b-c363-4005-9abf-7f76fbc49776",
   "metadata": {},
   "source": [
    "Check the submodules to see which functions are included, which are missing, and how to call them."
   ]
  }
 ],
 "metadata": {
  "kernelspec": {
   "display_name": "Python 3 (ipykernel)",
   "language": "python",
   "name": "python3"
  },
  "language_info": {
   "codemirror_mode": {
    "name": "ipython",
    "version": 3
   },
   "file_extension": ".py",
   "mimetype": "text/x-python",
   "name": "python",
   "nbconvert_exporter": "python",
   "pygments_lexer": "ipython3",
   "version": "3.11.6"
  }
 },
 "nbformat": 4,
 "nbformat_minor": 5
}
